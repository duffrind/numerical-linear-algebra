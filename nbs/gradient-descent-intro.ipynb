{
 "cells": [
  {
   "cell_type": "markdown",
   "metadata": {
    "toc": "true"
   },
   "source": [
    "# Gradient Descent Intro\n",
    " <p>"
   ]
  },
  {
   "cell_type": "code",
   "execution_count": 15,
   "metadata": {
    "collapsed": true
   },
   "outputs": [],
   "source": [
    "%matplotlib inline\n",
    "import math,sys,os,numpy as np\n",
    "from numpy.random import random\n",
    "from matplotlib import pyplot as plt, rcParams, animation, rc\n",
    "from __future__ import print_function, division\n",
    "from ipywidgets import interact, interactive, fixed\n",
    "from ipywidgets.widgets import *\n",
    "rc('animation', html='html5')\n",
    "rcParams['figure.figsize'] = 3, 3\n",
    "%precision 4\n",
    "np.set_printoptions(precision=4, linewidth=100)"
   ]
  },
  {
   "cell_type": "code",
   "execution_count": 16,
   "metadata": {
    "collapsed": true
   },
   "outputs": [],
   "source": [
    "def lin(a,b,x): return a*x+b"
   ]
  },
  {
   "cell_type": "code",
   "execution_count": 17,
   "metadata": {
    "collapsed": true
   },
   "outputs": [],
   "source": [
    "a=3.\n",
    "b=8."
   ]
  },
  {
   "cell_type": "code",
   "execution_count": 18,
   "metadata": {
    "collapsed": true
   },
   "outputs": [],
   "source": [
    "n=30\n",
    "x = random(n)\n",
    "y = lin(a,b,x)"
   ]
  },
  {
   "cell_type": "code",
   "execution_count": 19,
   "metadata": {},
   "outputs": [
    {
     "data": {
      "text/plain": [
       "array([ 0.0155,  0.756 ,  0.8798,  0.7741,  0.8831,  0.3425,  0.7936,  0.1043,  0.3956,  0.931 ,\n",
       "        0.3076,  0.8305,  0.914 ,  0.9644,  0.8654,  0.9793,  0.9808,  0.9745,  0.0851,  0.4595,\n",
       "        0.6603,  0.2157,  0.0839,  0.6564,  0.7842,  0.4263,  0.8814,  0.0526,  0.9923,  0.6046])"
      ]
     },
     "execution_count": 19,
     "metadata": {},
     "output_type": "execute_result"
    }
   ],
   "source": [
    "x"
   ]
  },
  {
   "cell_type": "code",
   "execution_count": 20,
   "metadata": {},
   "outputs": [
    {
     "data": {
      "text/plain": [
       "array([  8.0466,  10.2679,  10.6395,  10.3223,  10.6493,   9.0274,  10.3809,   8.3129,   9.1867,\n",
       "        10.7931,   8.9227,  10.4914,  10.7421,  10.8931,  10.5962,  10.9378,  10.9423,  10.9235,\n",
       "         8.2553,   9.3784,   9.9808,   8.647 ,   8.2516,   9.9693,  10.3527,   9.279 ,  10.6441,\n",
       "         8.1577,  10.9768,   9.8137])"
      ]
     },
     "execution_count": 20,
     "metadata": {},
     "output_type": "execute_result"
    }
   ],
   "source": [
    "y"
   ]
  },
  {
   "cell_type": "code",
   "execution_count": 8,
   "metadata": {},
   "outputs": [
    {
     "data": {
      "text/plain": [
       "<matplotlib.collections.PathCollection at 0x7f6b5f134710>"
      ]
     },
     "execution_count": 8,
     "metadata": {},
     "output_type": "execute_result"
    },
    {
     "data": {
      "image/png": "[encoded data removed]",
      "text/plain": [
       "<matplotlib.figure.Figure at 0x7f6b624a1630>"
      ]
     },
     "metadata": {},
     "output_type": "display_data"
    }
   ],
   "source": [
    "plt.scatter(x,y)"
   ]
  },
  {
   "cell_type": "code",
   "execution_count": 10,
   "metadata": {
    "collapsed": true
   },
   "outputs": [],
   "source": [
    "def sse(y,y_pred): return ((y-y_pred)**2).sum()\n",
    "def loss(y,a,b,x): return sse(y, lin(a,b,x))\n",
    "def avg_loss(y,a,b,x): return np.sqrt(loss(y,a,b,x)/n)"
   ]
  },
  {
   "cell_type": "code",
   "execution_count": 11,
   "metadata": {},
   "outputs": [
    {
     "data": {
      "text/plain": [
       "8.8048"
      ]
     },
     "execution_count": 11,
     "metadata": {},
     "output_type": "execute_result"
    }
   ],
   "source": [
    "a_guess=-1.\n",
    "b_guess=1.\n",
    "avg_loss(y, a_guess, b_guess, x)"
   ]
  },
  {
   "cell_type": "code",
   "execution_count": 12,
   "metadata": {
    "collapsed": true
   },
   "outputs": [],
   "source": [
    "lr=0.01\n",
    "# d[(y-(a*x+b))**2,b] = 2 (b + a x - y)      = 2 (y_pred - y)\n",
    "# d[(y-(a*x+b))**2,a] = 2 x (b + a x - y)    = x * dy/db"
   ]
  },
  {
   "cell_type": "code",
   "execution_count": 21,
   "metadata": {
    "collapsed": true
   },
   "outputs": [],
   "source": [
    "def upd():\n",
    "    global a_guess, b_guess\n",
    "    \n",
    "    # make a prediction using the current weights\n",
    "    y_pred = lin(a_guess, b_guess, x)\n",
    "    \n",
    "    # calculate the derivate of the loss\n",
    "    dydb = 2 * (y_pred - y)\n",
    "    dyda = x*dydb\n",
    "    \n",
    "    # update our weights by moving in direction of steepest descent\n",
    "    a_guess -= lr*dyda.mean()\n",
    "    b_guess -= lr*dydb.mean()"
   ]
  },
  {
   "cell_type": "code",
   "execution_count": 14,
   "metadata": {},
   "outputs": [
    {
     "data": {
      "text/html": [
       "<video width=\"500\" height=\"400\" controls autoplay loop>\n",
       "  <source type=\"video/mp4\" src=\"data:video/mp4;base64,AAAAHGZ0eXBNNFYgAAACAGlzb21pc28yYXZjMQAAAAhmcmVlAABOQG1kYXQAAAKvBgX//6vcRem9\n",
       "5tlIt5Ys2CDZI+7veDI2NCAtIGNvcmUgMTQ4IHIyNjQzIDVjNjU3MDQgLSBILjI2NC9NUEVHLTQg\n",
       "QVZDIGNvZGVjIC0gQ29weWxlZnQgMjAwMy0yMDE1IC0gaHR0cDovL3d3dy52aWRlb2xhbi5vcmcv\n",
       "eDI2NC5odG1sIC0gb3B0aW9uczogY2FiYWM9MSByZWY9MyBkZWJsb2NrPTE6MDowIGFuYWx5c2U9\n",
       "MHgzOjB4MTEzIG1lPWhleCBzdWJtZT03IHBzeT0xIHBzeV9yZD0xLjAwOjAuMDAgbWl4ZWRfcmVm\n",
       "PTEgbWVfcmFuZ2U9MTYgY2hyb21hX21lPTEgdHJlbGxpcz0xIDh4OGRjdD0xIGNxbT0wIGRlYWR6\n",
       "b25lPTIxLDExIGZhc3RfcHNraXA9MSBjaHJvbWFfcXBfb2Zmc2V0PS0yIHRocmVhZHM9MTIgbG9v\n",
       "a2FoZWFkX3RocmVhZHM9MiBzbGljZWRfdGhyZWFkcz0wIG5yPTAgZGVjaW1hdGU9MSBpbnRlcmxh\n",
       "Y2VkPTAgYmx1cmF5X2NvbXBhdD0wIGNvbnN0cmFpbmVkX2ludHJhPTAgYmZyYW1lcz0zIGJfcHly\n",
       "YW1pZD0yIGJfYWRhcHQ9MSBiX2JpYXM9MCBkaXJlY3Q9MSB3ZWlnaHRiPTEgb3Blbl9nb3A9MCB3\n",
       "ZWlnaHRwPTIga2V5aW50PTI1MCBrZXlpbnRfbWluPTEwIHNjZW5lY3V0PTQwIGludHJhX3JlZnJl\n",
       "c2g9MCByY19sb29rYWhlYWQ9NDAgcmM9Y3JmIG1idHJlZT0xIGNyZj0yMy4wIHFjb21wPTAuNjAg\n",
       "cXBtaW49MCBxcG1heD02OSBxcHN0ZXA9NCBpcF9yYXRpbz0xLjQwIGFxPTE6MS4wMACAAAATI2WI\n",
       "hAA///73aJ8Cm1pDeoDklcUl20+B/6tncHyP6QMAAAMAAAMAJAL8x7+hB0M0IAAAUInP4LJXTUFR\n",
       "Bq1ViRE7nmVugr3qHwjjbq4yqtZnH2dD/PRH4qMF3383q0XiC6K7q89B8NNF+yB4lSsc8GA2Q9EM\n",
       "SZo46MPVl5rm6Gw5AAO/HK1aIiNgrZNTI5Ls7QQRVpf4juq+wBdKcXJT45sCVyHTSl9J4bAJH455\n",
       "2FU3/+xk2PEY6eRtuidcuA1yZ9oAqSkzNbMrtCtkHodEWnV2XAEfNgi9CgkSGqdVSAQHBwQtX4gj\n",
       "sEMbeImylielDsWzMRVjKc127Z30Zvhdqdzc+t47XklvddpwSX/nui2+xyulVfrXRcUJtd/3oTh7\n",
       "7eVQzkzut9fAWVDqfSWo4vy7HURDcV2a3V2mK23/ezcUtKpAA+4gfQVeA5GPsHJuJ0JTYihUWNM0\n",
       "jxUqToHJ9fyEkMqQsLq6hv95XE4BoxiOVk219AcPoKyW8TDcnNfqvW+n7kNFIFCV3fu8HRAAHHTz\n",
       "mtRVD0qyDiO275QHLA4/WSVHgj2VpVdi4GICe/UrJ7hJ+tUzb07sIm3EYABgX90rjge7FmaoMyaa\n",
       "2nKcNDyGWjzANzrOjqx66j3wKACQJDiC9UX7m5fDXq0I8N99pzMHsgd9ckzLAb7K5OO49bJY56RJ\n",
       "M4qbMmeEOjvEAkfWS7XRhh8Bar7CU82EwVaFjcXs8VxWLFqqBPrHxcLfWoW9HMeUnxpZnH4Gf9Ki\n",
       "8iQTjT7fPxomsCTmPUqA366JCegkRO6jLJpH2MqHUm/uC7+IVBR87HvwzyiRVLRlibwWnlulwrOh\n",
       "i7oZR/YOwVFiS8aVTk4UJ4/wUkQpV0zsSHa4Pre6WkMPoINme/5JuUOKTugNyaQ24I9PiPfzxka6\n",
       "Eog/eD8gfoV9YEVs4zBTyuVfD+bRB+AQ5DsKZiBRTtHFt+ZdSKCGaknpMqtbzF2ot+xzW3BIVd1d\n",
       "7Lt6o/A/HCkhaX25fOUoeOLcPmhmS3pfeQBsPzdPdVDRhBlvMM+rF9efssEADzxsDClGvcnWu8ZQ\n",
       "jDe2hBUqE9VfZp+C3z2rnOToRwCePa1JXbo7bc0O3geN6zdvYelZXXGIjVy/uERJb73GqHVeWzuT\n",
       "cp06naUrPX+X7usDuJpk/m3Lo60V3e/aVH7H7G3ybayH3lN+v9N7bZMP7PuPTKW6c4oBG7g3ybeE\n",
       "stiLiZRytPfAZnG2tN5XDatBYx9Qybktk3NZUkpe1S2WjFX3PWq6PFhHv+HyhyDv//FtGAIGFaTe\n",
       "NrosMoyOevqrlg/ARpulvD3qXuxIwht7HWWB7TFU9a0KWQqGWv6oOTXCg9ydEFETFu3FybF637Ug\n",
       "vMXU0/MIhKyKzFJXUuDtDnUg0vpooXu8P4W/5dZNyYfP3ofK/KHYsHMDFgaDehtjKK8urCMCfm/L\n",
       "kwt7lK9khjlR0un+yOxCXTmgwVMEjbh8oRa2moLXGhsZJ8Ooo/jtih6RpBHWR4xpuJ9J+l8pWJJP\n",
       "8AisWPdl6iRqjryw9wyZ+2t+pmkrxha377bHu6ozSiuVXzaaBm4+2Op1qsBtnf4IvPyV949lxqAh\n",
       "gXqIV/Aqy3gRjJmMJ9XacT4bNY/H+5aPW3mrsFb17NmvBf9MpiXM2q7Mn6+17L4dhPeq20ZEyi85\n",
       "lmsRbywm//6UcSbGKFy6tQkXXO78Licm8SuiSXwxs8ZRUrHMGSDbIpeuuEPfwfV2Mvd5Yhj+i+M2\n",
       "BjLuoh3newroJzr+pY9hvaZq/tKHwpude1f5rbDZVeyMbcbUYS3X4ZPYe57fnD7zqmree0sHnSSG\n",
       "W039qBQsoKrGKnVTU5x2yRl6iJ0T8Lioc2SQ4ckelJZxqNvtiLSm2kP4oGjtNeclHeLLvQIhh7hs\n",
       "DZa3HpXgV1FPQXehbb9hsfFkv1P3yY8J7BXzllOlhtX3PHryJK4aW0Q5zaJYBKWxwFVboXbiMRvZ\n",
       "rTDAWut1CaQQ8TVXhnVBfb7GHwfpP+/2Nn0j/1RHqjTOela7W9YGGE7ILgI0x6VCldHxZKKKUuzu\n",
       "mpz2ll9cwV0Fz/yQG9lKaDpbp92BvMJWYzY5x47T6tiUoeXRWBU1WUWWnVCMGiGmRUK/MeEZEjpH\n",
       "OLtxfnFf2CNVeszNg6zW22SRv8fua0kodv+SV+xOaIqp+P4SnSjVFrIWdMapMKPHKk2zjioqx0AH\n",
       "U6GR9r8h4BTwbTozuTRcFNpocC6mZEs9dL2jJhWfg+ZtkJ2oiGOA7e0qDGUz1aFcKws3FQj07N16\n",
       "BNJfZJvywclfJgHBt/PRqL/ivCI3BlNTiwlJcnuU0O8W4V9eFaRSdDLy29YaJ8ty4dEHjTv1zqLK\n",
       "7hRTSh3vL72JCLyG4BDA06fE8y9em6FbLpSM4osN3S1xGQiIkf9PWaDhPkWXrC3Em3OnDx+vJ1Ov\n",
       "j++C6hwzr2ygdYNzH+jmfPegLcMdRSlnoOSPhAbPSyTd098JCi8i9ReFVX2UDyb9ygzRQdG3x5uW\n",
       "9r+zrbaetnaL0Y0oX/BCsSmN0mzptfLB3r85VHywO8Jy43/3RmkGLRnSUg4o303fvVxQCNoMdoC/\n",
       "4Gtt2uNbmLJ2SPVGsWkEpdP/hD3gNvA7ZGaeVxZrEOzptEtUtU1uYslxzU8eEuUTy8bzUE6I1tlH\n",
       "Sk7fxd8uS4gegedF03YZbrJ7mS389bv6LK1+xkS/tj+FQAKS28xYwcbknVYYlrjYLzp/krXj2Xez\n",
       "16fLMx05SQG0XDX3aGz40wbdG8J/RfI6P/TONWdlAvWoB2Ds2B6C7SnGRnQIgFaH7BJNmD25YqAb\n",
       "xU/30pbQjHfN6JEzB5/2/u/fgs47wyZ4pC9P9gRfQ//7cP3wbuAfbKViDdMg6V2DUpzGHJJw/TNs\n",
       "ENAP/hNCIv8+Cg+v1vquCUYF7ypfbUFVcTRPA8Y5+gN9r4ShXJJHpK5fW+zcsxN1VBVGKACnR4AD\n",
       "Qessu++P9Mx2PM6LO8w9yEy3mkqgT9HebJV1yK78ycSiXAHsYVaqr1LVZ1gEB2ZAlT0LcdvBtm05\n",
       "Nd92noSAlRjHwrnKsyuRM7JL4BzB5EhNmE0Hfl7c8UfWD3FWzmQSGUhwJ07G57EGivmHTcvIqBvB\n",
       "IIifDCPowaKDm9JFp7NZR8I8UQUM4I+qUVkg5j6vCr/NrEab3h8LapnmhtqLPfOptT1OULgzTEPd\n",
       "Wh0YKt6hCDC9HCEM9l73xbd7mWLG9gCSt3i/nxyASIkjoCph55Xe/Mfp8zsZYJocIfDhagFwPcEc\n",
       "CAyOO6yhOBsTEYQVj9O+a/a/llOzfxOeoKKsFJ4GIdhtjDLhOHA0fF42FqWRDQZQAJdFLPpj3U4P\n",
       "ughmd0dJ/SDM+NpPJa3ivDaa6p6NkBBQlN98iiu9G0gjkPgGkD3s0Ns1N+IMYMsBKYSrD1g4HPsG\n",
       "sBC1D7CrDsUoeJPVhcrXR9Hb1/t/yJakB7Gq0z5yTOn151wtmgCjK4PWOuILOJgyj2NxoQwe0jW7\n",
       "5oK7RV57/83ylnr9Ngt6IqPiLwWH1Ff1OhiF6OaDHgzh+exK7LWMmM72U2Ev94T+2xYQ/i0rN9Ub\n",
       "wySoAZrw75qARAJN15dyromDrpzX3Y7z7vd+pKUTTe0InJmdm+v8VRiZpC1QTiAqaQYvcXgiJ2w4\n",
       "6SuJMeoGDyYS//dD4srZSqXIY9Ffo5q9yA0R2YfbDzXjJ3u+cBWzdcCLybp+FBODVKsgkKamk0QH\n",
       "jVO45WAlhOCJeOneYelW2IHoabw1/8WjdjDRY5tNkaYxI2botTIsZyboTTwYBx23YhQ5FAu/VMfl\n",
       "kBjqvQvargUUzAVQ1wHiVBDGOc7o0Y2GWm8SwGRqyn/gAZVIbiTlMpB7T1V/myLlEVO5BPqtbTrb\n",
       "QywK3cIYdFx4tXAQSyYeMZy4r6ERfCKoo3O5llTzukbFAJ4CxMpgW0lF2NvyJOTD1+lAZyvXFHpW\n",
       "k/t2b/FEoAOgGDYm9yP+B+cFdfFD+G2HdPnUsJo/lzhfSQY7AikfAjITY3ydoPR/CilExvIhazlR\n",
       "qU9RdOVKWBKuC0MDj7f/++cKvUtjHlRdAGqoh5KnlhZCV8MVOWSP6L4ykInvcK2jXN7a/pkPkmIV\n",
       "N4Vto+kyukFoh7eTc+HzId7+hnHrRV8kzBPHLr5hraBx8Av8yNbMrpJj0EVnAvquEE9sPw+k393R\n",
       "oQCNoDxiQfHVlQ7oFB8jv6wXY2KLOeQy7QiHjsJ1k3VoPY7kzuwyrPEbiS72FpaRy3le06uQxTFu\n",
       "2SWBPi5Cuoncdk3Wdc2tDMfXg+Eq/BRyO6dsIPPWukW2JDnQqTB8Y1CDKfj/DG5KHLZRc+GnGb8q\n",
       "2xlHdMvlqgGse3ff+71XlCZ2q3dQQLa6LXeng8iVMU/3RKevYnOJwvlIpPguJ0m0Dv2E+ZfP////\n",
       "oiJGCpMOGGrp5OLgqu6F9UwxscQU67uLWxL+Um/GnPFH/3jGtSH6TiXkAif4L1cylAZ/Nyj8c2z0\n",
       "2BZYAUkeMPGcgTeGuenXDw5IHG2Q9JHfliGuBfwUIpI1e30GnrHqafL7zQ2vwjCUrAR5M06mh5Bc\n",
       "Z58J9AikgqJJp1HOfjlinIhXf0F1Ux8+v+2GIU3x+86RXm/qrykP5imgueLFOlh4ypErZPHOPypV\n",
       "z5PQSRv678i9vphVGeEjvETfwxBpIZIIdOWihoxbjT5pTbFT30H0PwtiZotdkuvbOaYB+mPK59ly\n",
       "YXhEfujgyIKT7JnTbcg6qnQi/6SjyAkN0lzd97EsC2n+Uqp6pVcjbqjQAAADABr14VtKz3dkEuzb\n",
       "/sFvl8G4YsmShnvg/IXbshBTdWRWl4tAYAOfnPSYNoXO6OR659Njd+JXNjACqGXrrwMGCR2FcYPS\n",
       "tV20SZ82TGmH3UmVyJvtYaHm4zgr8C4b6zvvrl9IiIGGMRDHg3D8aeb/R+lisGu0WZ8cm6xmcUpz\n",
       "Tn1bGEIwu5oamyWXYu/idUbXL+D+M8ryikDvjbyYRwrN2/7Q7pukcRGzpgf49yMose7gZ4J9a7Ev\n",
       "u57uQEaE2EMuORfUlNoC2WvLYgXj/SLl1/cDbNn0ZyS/cNsRs6Lq/IjOZeRLQ1f89ogG7lzVNDwP\n",
       "BbbGMjmcbvKpat7k6Zp2nvJ2Dq6JfupgjZsYZex9b/DxJe+5SAvVJd3DB+KcFLytePCgrt/1unt/\n",
       "JXrkAAFaO9bvrza+ttHMstYkjU3vRUIl+eiapqkDEzT1sc65X4ISXxOjrbabCne3FaAshIn5CXAg\n",
       "1uB51EPMI5mcK6YMbnRArWzeoM4Pr/N8aixDAbbLoSaXo2p5Udsb5C5eLOOrzYF9cuAnfMTvMsL/\n",
       "gDDef3EVno4dKGnO1vRjeJ5UzTA8w4fq9OkrpvlvAzY9u0dySBAfuOh/T89ucoqtMp8q5/gStXQM\n",
       "8rcUHQqi0VEiTxHjQ/hgA7vzPawBWpHONDYQ3qWR+FURNRlOrd6zse6sFsYKIr4eqgEC1JpuJ7IG\n",
       "5E2zFHecAgV7lIMRW2VVJQCVwGA5ttSXUXg8KrWqgnc0RJqYGT8HZIoO1RB9zM3x/ZBK7MRt+d/7\n",
       "/GBELNkuBTIzOma1lShnYeCeBtFh37yeQ4Ncj8PgPPFJp1vvkDitcCYwlrW+seAijUrmQ3ljA09V\n",
       "DzScV1laMcerHNoSHBstBLWUaX2j5h/kqPbxSiZu+/1m/UlDeVG9ldADam5t6esXznjZ1TCRJ4cg\n",
       "qiSiEWRAi5fBpZhaQxO0o5/Y6ctRoOaD0ePdYGKZW0/msyp4ijhcDEt+91oOTlZ9+sIquzqPJoxV\n",
       "cnPNlJZDHWT/Nc0n1pEpOHrT+2fUH3Svg/xey5x0H8ClV+LVbKum/bduol1f59Jds1L5yCGLgYlP\n",
       "VlQk4uezFclcp9Z/8yCyxMJxsjSRv9fleBBiipd3y//H1vGtAlBScsFPJ/CDdvZrov8GPXfTAwrs\n",
       "WkvOTCYU3XvpXsxiHG0tImLi32EYtZCAi2BzWvdVsGyirGvdjMMP1fyA1PCOQcPn9/VtqztyuMol\n",
       "Isp5y9sr4mYIi2noJd5DiygPpI50K3tHAMDiL9kv90rFu/j8g2SSpkm8mPVqMBvQzjGCOjkxf4kC\n",
       "/W14vhQh+IN32mi2fID4Dq+Fu0m9BckysplR0Q7ZYgIwWdW23ENFjuLHGqCwBn42YGAZ24tRNcYA\n",
       "2hvFyhovl4NJZUXvkobtfZELvrUr0xBRTcrGy2Z1c1p+iFTBh5h8eUzZcpYhe5o1+8vlvgly0464\n",
       "AX8NEo5REw4Pk3pXeLPJcnzRScXDD8RsGJOl439jzSdSDdAJyzrW6rG4XVKHkCiEr4I6fUzZgNWS\n",
       "0d2uTlfWi+xMKiCQBR1aFUjWNTN5mj/1X2ysUv6IHoq0sicvmoiZa3pDITeX/u/QC7hXnAl5fCVO\n",
       "6DTxip+hXYkvbqPPTNWd2ogbaHL97nuSMB4qV0zcCjATEV5Ra8YMsi5oZoOBEJihhzFPKqFCAgo1\n",
       "rwm7QHdBKQWmzN6xLzlScoORM78q41UsUZSO0rjOwzwb5tcmRZFaTsde1+0KnLCFAAAKuQAAAcdB\n",
       "miFsQ7/+qZYAFTFA6AqcifPqJT65i3RsiqpQMEmEjFxBZ7o8JQvMk9qhthVJnuT6uRPXuy3NKXJa\n",
       "8SSwu0cef7zd84QFxM77l6fg4bBg+KxrTetNxN5Nqw4LUBsNlwF238EYyvcg83ADe2sTb9mETra1\n",
       "EYbwrwyNn7u30+Zd0ene3omvfBYjW66xUfl+nC+jJqXH/ztJaLR8Yz1tGHyf7rwX2aWRWLLF6lvW\n",
       "2hUdha7kI/ML8LoONNYOkBnPoOpdIycxCOHt8ps3DMuuv6Ksj3oi0vRUBzn1z5aVhpsJ7CqKi7ca\n",
       "kAyO7qUdNYvxJcNtL67BKlUKXeo/yIIfVYOxI2p1JXMXdglU/obIbJKqaGF5yOCDt8d2Dw42V4/Y\n",
       "Qn/ZrNDw9U9ADnK2nqYAxfXhRmngITG2GVdMsl0lTskqaTO5crgI1lPmA8lW9xtvw8Np+a9Zrp1/\n",
       "PflVofP0WAMPx8iibur2TITlsqWR4AvTUAJnQASzgwQlu1PYlKBlSEL7Haohr1QRrnzIaCEeZcZ5\n",
       "PFpesgAABCxXCCHcvc0DuNL6vV8vQaO/RGTFpksj3kpGSEk4VbPLlrQZJdYujG0bs2ut3iJofwAA\n",
       "AmdBmkI8IZMphDf//qeEAAJa5apU9yD5whyMACWUBnKW3SvwQ2nAfXlSj4Z4W2ryHpJnpzUqEM7z\n",
       "Ez0EBnYjTNTA/IxsXZ/sF5hbpYwy57d4+XuQQ3pOurafUPb2gvKTltpv1UD4P1Tj7pcGAHEfa5aG\n",
       "5o+p4vPToxcRHVH0lWDDJzUBnDadJVoBCz8ORtsYls9L6/7q+RXsZUtemwvezLXn1QPH6iGBrPeS\n",
       "vRBR061pHSmgcmfozFHN+I4oimMjTYZ6EJjsW8HOCoCnM3D4GrHaRGTbP9mxQqzWrFPShhurQbKT\n",
       "K+VHwLwoYYdeREVkp+dUCIC7NBXbh4K06pcn8CTnxCabpVp/RuEoYHtAdU7b0AvzPb6bT0iN64/U\n",
       "nU4Gw3bPub9ZDUGB/i+d99x3MCZ3aMUoDLTN4yEDe/b3plIzFABsKhOdpVIETvlrY0G3A5XElex7\n",
       "5n5kgjhxYtkQjT0b1OcHTopwB5zyUU293vdFtjNbvbxv0VcR8aaMv1qjbIUZAKDFaRhvhKS/xuoy\n",
       "QhCipfbz8Tk1aD2VRBpfR1CeJDSjwfy8bwX/1hZMCqAz7rBpn2+4QljqzXCrn4mr0E/rbDYOOS8a\n",
       "Bzo1ZMsQVJayiq3unJEdnAoLSVnsKznqlSah/4DDfpm1R5MKXMmFHwmoCi4aUXjCfAgV8u0LZejO\n",
       "gQkaSzLvaoIrQekvbuI/lCm80TEbqmJbG9laZtKQPuQUkFnitvfKTIcMfM+v90BCuak3V8TeutPM\n",
       "53nLPbZ1ZIfb4QKnMJIxnZBNVIzhAaXSj/Ckl04AAD16MDPCAZOzVFRASmKEC4EAAAMWQZpjSeEP\n",
       "JlMCG//+p4QAAE/398DQvgBYfd9CsGXp8Qba9FPSZxyzKz5qCEzx9V97zClyD9aaG2KoBQTlEHZV\n",
       "lE02TXpH+KkmCSY8ONKznukjS6Qx03zscTgFUoFaqfwlcky5Jv/RsniWPayXXqFRnV1RWfn6mX8Y\n",
       "xUegE39zjYFwobXrzSoGSbicbUXz6G0t4boWCSCFeAYnjMFDKnXVe9Wn9mRlkWiQYqluFKjoIU2T\n",
       "BwKPt8JIOe1ubGzxCxCk2ZySEauv2ckGw76iTcadniFVH7/vJeq1oxvetbP9SKjaag1GzKeFFziV\n",
       "7DhlVbCQZ3tEiij1Ye3wPVx1ZlCLsubfVNBWSL0DE4cnfAE4jmyL+MQs4nxD0+XC+0jXqb1Tn2xv\n",
       "WMoH0ImAxO98cUdwZw8UEzrvc7xwToYTiA5vU06SWuxJ9foyDCpt4ozHHAeWobIbFhQw2C2nP8vB\n",
       "rjSPp15s7bMaIBSoKO/mwER+TTSLl21rdHCn82mBvDX56RU03KFXR0wei5IGck8phWMPNEgFMtGt\n",
       "FN0L7s1ZvapxL6j2KgnZF5g6dlU1iGOYRJYct7WTtWxjWOQ5d2/ytUcJlu5EWzM4Z+MiKrdgaBBe\n",
       "UB0iCbOrZdIjpzjgKU2dSRAsY99Lsfwu4l9pnq71QQZPHC5Cg8f9zjvMX7HKHUv7h/z9Li6ikpgY\n",
       "97NyZ+8Jrcq3MEI9ew+fpEtTwvxTD9I1M+8ouH+sDWxTKR9S4jPSjQNcgCNViCQBL00hOKxcQHY4\n",
       "8pwsxfbNAtLRcLGplxwt/vbhMRVamt6WEqeNmswNInDbzrLTxlxI2vLqC0ToCY9QyrFlv2JKtjTF\n",
       "IeP8BYuNQqroN8ayt3ps+NEpyTEGsXxB1QHTV0RkPs2tK5Udls3sSL+QZl6apG1/swwBXh4Yu7NC\n",
       "CF/Z9/SeDYn3hzUuHPm2Fssqkh8bovbxDwY0jXPuCNCHkG/Jhla8ipTaoqzdc/B1h+dz4JBu9+Cm\n",
       "pRzr7IBxBJGIYHoxLvX561j9gkHO27ulyZdhmyPugoAAiXajiWWfqABAwAAAAl9BmoRJ4Q8mUwIf\n",
       "//6plgAAYz+WhcmyGr0Y7Gotsqa+p5VMFN/uHUWQAW6hI/bazqpuWBl26Ombrcb6vX7rT+ejBKVa\n",
       "JTd+s5x1WobJ1MDBmY2+ZgWFZpN6AkN/MPKvuERkO7TQs/bAz1yftqBtP+YawmqY/b3WGdyCvPfU\n",
       "EMQISHAYTTQS66iDOLFyMJ8vfWAvKttm5E00+Z5U1wwBns2EDUYTxrPVxrja/SFQAXVV0N0dBlpl\n",
       "VmQN408ECCz98w+of+57DjpgisjlN7ZiawP/2Sw7C6iX+xS348ueDExujromSAPmVs7/QJF6x53Z\n",
       "lFrCg5jaU4761RTkN7jbYJAHRYuF9LFvR6eAXJ3LIqvqRJC4cYUarEGiMUigfolhgp/0D8F1IAYy\n",
       "yWRPFy4CLACVUlITLtzwy+cL9ouhx442WLrlIvDHXolv6Vog+bOVtNqWJfINL8tAk6/qz3xPi1Qw\n",
       "KVhjXK58HUJfKMCWGR2sDe5Bj6335svd+c23HmhXOqZD0CLdVg0lKmp3TfBBGDBEsXBKNaWgB1yD\n",
       "hG7W+MG28yGknzU7/wX01YdUHkf1/nsOc4y5wvOzh+RoGz5ilvL13/Qf5VBa2YO3wy3F7llLUSNj\n",
       "kTdydkfyUUzC21GtmzbnuXbLRa2Bqg1Xw6HW8JT9em5g9jXM58OSB7SLf5+mCUZeBiH/8rHgQDoj\n",
       "1W82412jD/a6GRx1mJ03ZBriAapIbKUi6QMkzVQ0vhmTzRM4OfA4opeYtFCtMVLR6QJ0f9tqUpoP\n",
       "ctncx13CPE753CYSyG1YWFQBgkIAAAtNwhLxAAABM0GapUnhDyZTAh///qmWAADffyyvhuvY1HR0\n",
       "nJacqlHFwkpc47uacYJGeS6VXYAWiLF8sOAq/gb6FUyv+ZBVIfohthxgZvcYxXMzOcP08LjUSVyA\n",
       "HYljWfNfMsrZb3IVDci9BKkNubKDhWIgSgNVFgkZS/Du/KYVhmOqmPibbm91u8N+KZjBDKKcqTi/\n",
       "M/xAwZDH2P2/9dmmQf+c2aUr6ciIlrZXOUV/oTjUR0z6bi60WSMkvohWGs/I3W6Y4cqFKGXT9EJs\n",
       "ix8N0ek1tephfKD4BNJV17kKIbp/vja3GA8lqPe2+ise/59yj8EUmZ63F/kg9TWjvD/poSxycxAV\n",
       "FP1X5KDjFPBJq+E+1q6lBnjCM79JXrfr8RCSm4eXLHfdBLSHkmdwJ4ikqgBCvJSxPWTwg7sAAAGm\n",
       "QZrGSeEPJlMCCH/+qlUAAHoPBP0qjNOXtRyxdnJFWLn5qqpNDsx9A8/CdxbC8AcldLErRHBFdOA3\n",
       "P4Ah9d5BFXKCaBQ5qukQpe918c/AJzYXESrWG1Ro2HYiP+ATnNDU0eB/n7/QWhshKjhjV1ZlwcDc\n",
       "KWUOkMqQfYJcauWIuRu8gd9gNs7PBR/Lok2awPDzp3eLVgz6bVQ3/kczHHAeY/muhJu7ft0Uz5Bd\n",
       "Ibf3Dw2wXfoA1ifOj+Lynwf8ffvFbH32BLQ65PYAjLavmk6pjM80YtysVMBjTgjjnOB9fw0ZQ39K\n",
       "aQV0+IhH4RR/d2F0rnyX0HPPF3MY3/ab2CALOlA8SKAKk0+dmUmKvm1Gon0tS04wvRQVqWJoitwF\n",
       "pDFqJilRUpdjEV9ylOUxvBnIGS7Z/mim06P8a8fDKVdE0wsZ7sMbJ1bOqdjNc1/i0QpZkJZce0sx\n",
       "92fSGdFZBMX3FdL2x/fbmjonil4VGJTVEuTbZGmtuKm/8DqyVDspEnuZfjgVYNvFrOIaJcLTsFEH\n",
       "dWtRa/7RY2jXPB+SbmkdWa8w9mOoEnEAAAGYQZrnSeEPJlMCCH/+qlUAAQA+ale2YYCNqa8SPHN+\n",
       "69Ff54CyCITJL/35LcB03QWxjeCbZEapgxv9rZASYGNdhbxwvvmZqVzwiFyRURaWPG9TjXNjZLWL\n",
       "PWmnrkQBk6p6lvK3lxozH1Z7BxeEE4KUvjAcsYbbHQw7aXUKdA6VzV3TL/vh0z9QI6Uo7M9fanNy\n",
       "yGu0tU7nfXYk6VqEf+GHd2vIYAGPCOJjL0ile9l16C+++ZsgLeYxMG/sZct19z5j/BtLuysu4ePA\n",
       "4RQ1rLyOfQ/DOGAxM2e3A+3W8vV/BmF6bUc9U31xwh4qjLyUwz17zFcrB3LxNLw6dBBdmGZa19h7\n",
       "6R6pVo88Zox+mhO03uF+eULQ4iL+1DxYpoxVx8B3PETc65qJAwbcbhSENiyz50OZUuUKAyyy93Yq\n",
       "qqBrEoCDMk9q3/8zys7EH/ngB9SuCykIsLo+OZqoo0XaxZIoJrcX59hplNq4KknMCbh1/AgrreJm\n",
       "WhjvL5P1/O69jxIAKyPXAeC+lQourbfYL3IUfLVLAAAY/ZNxAAABjkGbCEnhDyZTAgh//qpVAAIQ\n",
       "fNuqwimx3bzsPFyu2Yaj+iqPnc6ocI1le9XUIIyP4bGIcICJjEgZhUVbLB3qvN+zhWSgI5tQwBPS\n",
       "nygzkn4RuhbCmTRCt3p1ZVNIsNcAOiv7oics1hGycPvkzNZyjCrmdg9mOCu42OHRyAVcNULpGurr\n",
       "vxT85JVUcTN4LanoMWg3UoDrCbog80wFfgMNoiJh//3bq769IRmdBG8T74/q7cJqyr0bQ6pCf0Sk\n",
       "TP+vZGglBJIIr5rkVYojXhFbw0AGhWXdmIppnutatwv5/DZ7orMoGMqwWbvchuEDjbqDP/uPEr8K\n",
       "dVtePFySxeh9jA/ndzSGfqn+CkCZjB9fGcpYMjHBeffJc/At6nZHKJvnLs/pDVD4zi5pSV2uOkQw\n",
       "126rOrPGnWBlm2B3iPKSfGan861N1uYuRy3XfSKVAA9c4ZK9h4Cn4/exlZwGW1S4RGL7k+lwMUVk\n",
       "0B54wzFXK1jGsjGgfAv+safDd3JTJHxYbXDDWpOcRhRdTaewYXTpAAAB0EGbKUnhDyZTAgj//rUq\n",
       "gAEgbYns4BfOloCjMaK7ZJsUeGmCmbllAJiOekNJyYaMASiBMfglrqv+T8enVBERrk1ITmagkgw4\n",
       "opQqG2B9FF2j7T3NXT/PJdQ+PzYDb36QKTMEBtU9m7XZtjfKMOSob/SW2UFxxOqQ2b4YBayfPimg\n",
       "lavie9Ca4xodfJTLP2PuOBm3lTTI5Wypk3P/2pjWuLvchZLwlvzQtRiLL0GpZ+3/MP+nyxTAUE3k\n",
       "SeSlby6Qv6oN/v8ZDWCVpYJ+gHOYzi6GA1hUCZ3S0b/xJJOKVRcdbdx7+DfSdaQJY1T3Q8gArhru\n",
       "yznvLY2QAJceetIFYkTPFnQvALhAoEbJaoq0tYfAWDflO+7N8kW3OMAQNHoPinbMm/PMIXrqKHRi\n",
       "2QJG00NcQu+Pt6SIB6RU/Tq+dHjcybHrrDkbC2nsocfsEe8LyfTd4juurAa+rj2eVKR83xDRjzQK\n",
       "17+/7x+93gpiKopZP1OKCq32bAI+9untn28Xtin05EuWr49vYy/+UzjCTYwH0DgkTjfpvdNJAKaj\n",
       "LCEzpZeCs6XTHGoFYp7n5CgTbdC1/eilhZOCTEJCeqsxAPiYlK2bH1ofXC6rHQblty2gAAAEGUGb\n",
       "TUnhDyZTAgj//rUqgAJw3yEAH8JF4J0iwDpx+zEk4BmAoPwXpCeD1xffdJ+UHtQxubKZRXSj5iAV\n",
       "wezLOqeV3RrWzJ1F96E+Wl3OhDjrTk99CNAJwD50c+30ztKuuwy+3qNwl+g3LseT76VDzXzJfylx\n",
       "FGRXgUgaRIrwRQj4fOEdIETCGrgtWCDnnbMyowK/avPITsJLw5dGgZvHNydMNRKOfoqjNN32Utjp\n",
       "AHNN6GA63hws3Vzv6MchI4fOuVfi3qUCTg1ZHka2nvgcy+j1DHEDALg9dV2EY/7XzWAHzAheniZX\n",
       "40RFUD2YE/fE7nCyfaD6WdCftivsnlFG4ppIClEwdcAwjd/mN366StneYU4gOVilfMhIfEf7srGA\n",
       "0qo8u+SLS48Ck9a1kzHm5+7vTlV44sFEIHWOBhal83O5u6xl6Mi9PrvtdZ2dgeYxyhrapQSxm17A\n",
       "ycFN2ZwOE8XN17HtxoHeXBc7W3v9kJ99N86iQq1sFezlw8d6yz2OLpPZSgINu8Rm5qerjuCIYDnr\n",
       "WWjvCta4yXgzJfMDYxKoL1nO5GUwfUw2PNy+args0jqqw65b52sf3+UNrIj2O4S/civKWgoADLyO\n",
       "3uC1AMkwiwfNcbTsl4OO7lnAHJxF40mJMw5xyrq6VrdGaaB+9rrB71itbZYr9wmdvGlN+Y6XrwmM\n",
       "04MzLpPwQ3XMWT4VwTGQ7AQ6fNXGWmsxtCvfCFVovHOok7A+mqmfeocro9bpf9uiHdu48/vd4oDn\n",
       "dIHCrV0jFMWxlYgLWid1rDXApYEwRWJep6vZlh+1ceoapJrUASWftGDTlMcgbZBJpDSGvhbDjn/S\n",
       "DRH9TBWcre9RogvuKwkLnQXM+o+lixq6uC3zL6BpODm4HVv8RVOBNkcGkXUbmeIrY5tmOavZSpAE\n",
       "LIVEj9fu9r1rRsHjbOD28CRgulmOAeg9Axb99uLEd+oqzT0rVmYf3K9DIIZFUtQMRUF9V/l/4P59\n",
       "GeMQO7fVaUKELXKZSfIH70XnefNZFd8XNnfpCGcRj82nvnJAyNOCEQy5yVQdBZzBKjd+R+loEPTo\n",
       "ymyb4Nj7tRt6zFzj8wX99v3skDm1OV6sjiM2yHwtYUo0XqcBrMpev3bHd33KGsbjvcyaArilmu5S\n",
       "gZLMAzZZQMJrc8UzBGxa2cJDRrX1UaX70wYB8OxoXSJDdslDlHRFXpamUJCaCNONm9mY8hBLzvgs\n",
       "Q/goW533Ar44jNGcORNvG092XnN8S4/TuCXw9lq1+lpNGCL816YPBcAIzrNWHSAslFaaAZjpmRDt\n",
       "1VQ1P8QXvop83TIGgVbJVG6Kzgjxvb65+AknfrXdoLJFFscI8qFBd4ZPswPDupMHYXtMAODI++wM\n",
       "5WrLSO9l6Lhwt6aaGxgmnoAJcNGjAAAB00Gfa0URPDv/AAmEf16yJUMyvqgBCnv4pyplCrj2UOLv\n",
       "dA3shLW9tRkwlxNqlCs6DkLHGxLlQmivzisFJ108xwu0Lg8q6J3Vjr+aENd8osgSGwl8NtxCGQ/f\n",
       "PF173NoOYl9Hi37XSXZp96MHI3hV4pKcucC9l+i4BY1qNTpbKf73FOki0Lsr4vp39NBs0BJUjHqX\n",
       "bBq+3bXEwdMSQwusSBkaY//PpW/7Eb5R3MpYJ3YLUzJ55fnaio5EFg3tOwN0sTZNrOQK1eZUG/7h\n",
       "9p0tF8cpVu19U81X+agmZNYR1hFuYEJuBNncOIpywHWeGZqcLFdVkOtfRzB/MxmkYSDm41a44mOD\n",
       "b9XAUpJb8cEDpqfz8lY6uoil/MrQB5clihoQGuzMyueMbWajOMrJ596JLWl/sVCQ2x4HbYefdES7\n",
       "cK82Z+ljb2jBCx6uaJ0WbBWrYZaaAw5yO9ax93gYLe6a7Ivn3bo4zCJIMtRULKur6Zy7FQ/T7dvW\n",
       "/ngvk1GxEjWCXerc3kxryF14pD+vSxdeZMx5nLCHLZvinNcQtPRk8b2SsrgsOTzU6CIX44ldA4Er\n",
       "4NjY0udXmfzUPCzDYSSquJmCgbeLvVIQiKurQ+YiajxhyMTsAAABDAGfinRDfwAHsVU8PXRLqDwL\n",
       "Ie7zkIncGcFXJ3TUjiqWM5evCkeTgA2UEHjBXxdgtkQrZBb0o8xY3mNX+CqhGuxRrdkb5NifXuZ0\n",
       "EsbjLWc8BJcSlVTEh9nhd35WQmyaeYkpqvzqxKcqWmVEguWEvhBurcj1n1QAI72CtVP+6edQuzhE\n",
       "U1oP4xLVS4nEbk8hfHbyg+ccdOQaVgbigETr/f60sICzLy6DsuPANnPfZhvNTxKZjdhtlJntTyMn\n",
       "yH6D/iMBMi7QG+i03kKlJLIvH/jzo9orpESCq0lNw1at9wQVO7SOCIwHZ+6O4ilYW+XeuoI2oWCG\n",
       "S8jB9g9aqA2N6JKbRoA/3DsxVOT4BHwAAAFcAZ+MakN/AA2CmAvBY3vbjjuAE0GkQLxi7XEfiwRI\n",
       "U/1VwYRTjel+O25mraXvHCkfbZe6/Ytu2p/SlFP28EC0L/UEPrVQ3lWWbGHjvGPEVKn4jjZJx4XB\n",
       "wzgPgNa9fey2xscrRx1fiJZSS4h7KAd5+BD1YKo4ILNwwVIFpiS9K+FcAbXuwkPAFu1zjXw3xXMW\n",
       "Sdi8sfmpGY8gDPVFMeKCvrzhcNXuXjFqGr0RC5T6vAKzrBm2ZOacxWUOnGcKgyY1+nfy6RBF3rby\n",
       "lJ9qfglQBHFyvK7quwXzp6JRmAWmui6M+/M82A6XdgbVQuRMXFZWQDphuJv9pPvSJPXyeMr49CL2\n",
       "MDo2apVz8ql3CB2OVOlyctd3MY2x2UGuClkPBPXIGVZbZaFb/UNZHHcoS8tlHxypMgAvg8IkTe1K\n",
       "ztVDzlQb4OBHh1wAKxrCcsu4GVXADdrPTRrf/BBgCcYtAAAEiUGbkUmoQWiZTAgj//61KoAClc5b\n",
       "gALc2RP+Dwi3Cy+Tzt9oWz3z1wylVn+wIlMajJv5qQZpyDfjnIprKG5zdbBZvetbZwdGNpc1Nldq\n",
       "zY2lzZrYu362mm6HTZbGZzP5uZjILmrGJUGcYGuPY2H3x0ao4kaEw6Vpvm48BjVyvnVxvGP7DwmR\n",
       "er9OPzWvbdAmy0D7yjordMaXKT642inYMzHt4+6HPNFd0GDGi2kqe45YqBGj2zDoObNysDUYY3za\n",
       "wXDCBYs8RFYnsOcRB/igy7VxGr9ey+9ocABvt+QP//AkEejLs7BBjqnie9ASG1Mr/yfprpnNcgC+\n",
       "uj8dhf6wzIIerzhzyB26kCQuyqKCVoWGJVTbM74P/fn25ppLr+q3RTclGyZ/v3zyv1tw3Fj1XJsF\n",
       "CFOI0Ip/+T2oy9zCU90QICY6j0dJjdv9ZaWbE93JlvOsqh30N7Zi/7mZq4Izx4PcawNOjsmo2YN1\n",
       "HgDAD0ehJ5eZYlUEfdyyt9GlvGA9Dw1ia1b9R/IW3gO+58F5G0622C5SxICDwtPN6CUw7iarQ5CF\n",
       "wBGJaC9Atbpal9QHfxBcNkkexz1//l0M3sZx7ABwmV2RQ5IMkXt2pQA2JdU1DmT2XwpxZeLHMMiP\n",
       "wjDZgkrr5FulI68sXrd7yhv9SR/ru+M6iyaJHQn4bbuunR4CiOYj6dUiJFHMQBeMagzGP9FpE1jQ\n",
       "y/ySilqmn9ZugPm/WmF8T759spaX/1ky6f8wSUfqJtfo3k0cmomYksv5MqLkLnW3r7vfvReoFCIm\n",
       "JU2E0xLa9+JXKroF/kxgtmhHu7ytvMgkZUwJYaY6kO6iVdHxx6YFiTdmxEOPYlEPvX+J5Co1KE+x\n",
       "alZiyMrSC3Ly17HKb2GJ++ndT315BwhhwBVrjXwXphBuNVOMErRuu4DkLEl6XTUk8JtivDnv2Odq\n",
       "HaatwMI5eGRjCcxqG7RrO3/Tm21zfdO0fzsqFBWFrDzV8K3+asOfd3EHVTv9ICQgAKgvYMW6QRQQ\n",
       "KMNaEXF/KTptJlQjKqNmnEwm82hJOKrzWVbaAQBkp+9yUO9qXiHJdeEp/lJ7tgjLZ0L93IGv8Rzr\n",
       "U0xAEI3rOt6Nrc90j9+kfXhzYqFmwJpS8cYJCwWy8nXuiFaEZiTEAeNCdodg4dbGo8OIMOVc9507\n",
       "/7EKSkSTemIzZ/lyKTAXIkX+apxJJcATiGLELMYkAqQcE/4y0ep60FJ9yanpX/Ijd8tUcDdkK3kh\n",
       "P4Z/GXgJ6us4P16oE3Wy2i8uY9SuZQU1yVuEcwasSrcBi88NJGWoHyCsQMJYCpBAXxJR07bNQpEp\n",
       "DhWOgFtRa0XhqtB8P65KB+zc+6J7betJ61o6ayNHnYAQFXyxIeIGI+oPztbSYUxcJpB3y0A3cbvH\n",
       "1oFJJxxs44HqKITnwodlb8Jr69sRNQH4DdsS9TxytrqftSx2kuvc6taGWtBahkf6LnAYUG/CfzuD\n",
       "0agehsUoWZiwpxp0nQZ29PCSUIsAIpAKn7gH33/lv9JtljYbh287tB/wcmEQZ6uRNFIoxgPhCh8Z\n",
       "cQAAAhVBn69FESw7/wAKCrUqACIPhKrNfVV4uh2yoeFW0490nqNQB/m8LInLnZ8dl9+hJODERES1\n",
       "7MnCWn2zGl9MRyqWQ6Hyl+OdJyBWxJykLcsahjVCnnoD0UVsV0GUuNZW21t1jJQFPB9UTZXPaq/p\n",
       "RvABBFa/I7hzx4cCpn0CyrcJgrAhL6XqhS4+tWgiap/JCvpLwaIAiSalSQ7L7xbH/XFyI6cF4mV/\n",
       "qaB6U5XbM5n+tfM/8GF6bmjvm6Ew+lkenSD3KeVDGmHhnnummUod/eG67/IxPd+8kHVkUybfCp3J\n",
       "JC/cFslMea4mGMiWO2eV9U626nrmt0Jak2RT3abLuq17+DE3DOkz1WmMVRtXFQLSYJfagdSUuoJd\n",
       "LJxNF5+onazh68XHy5UxPJsmo2o0ZVgBU+lu6PIPDiWpRiv9SexzPiG2hWhlnFIW50aJb1bp1DTR\n",
       "aYUpTR4Nvagv4SsH1Emctz8aJ7vmeIQnNf2PMqnHqCDBSwpCmfG13/4ZLY1BZC0pn0WJ1v2z93oe\n",
       "Sty8yPmzNznyWb56l5njgUsHceos9Bl9ga+uuv3E/sCAIdlDixDpm0elbmItBXm3KS/OQHaYESwY\n",
       "X8J87MQPnIhMkz+4+X4oJgrMvfcY8DhBf/34sOLvcNDstp1+3+xqasNyTLkRn3IdOwpv6EFCzxC2\n",
       "fqbvg/bUx9IKUaK5On+AhjsEqaROqz0VMQAAAU4Bn850Q38ADinihegAACIPd8uA6ytOuUjXlTPk\n",
       "zE/vYACpV3U3eA7l2d3AcfTh4doLK+VEqSlR0ma1K3YdPdPcuGDAkgZRB2gX2NjcYEAE5ANOQqaz\n",
       "2NwzOPT2lGzMrCvq4QU6T3I7CDBRiZWViiCI8627iKvoy9MM1eoYu6Alssfs0Eqwf54mzT5v2zoj\n",
       "rBAQxvb66JNSi+VvwFwGVLS2MBMAORgTT0QpPds4i1WJSrjvoXg+/rXRORaJKcJ/o42ZstCWvz//\n",
       "KDhWrEt3DedfMzpQ+p2MGQvAIIiq839OZsIfKTfkvOl8l+TsxylG3SUT2EzZ1NgdQuJNTtjihgvY\n",
       "cY2XGvCX3h0S/FbGgYf1lPkJM7M7aB7aaUnYdBhK82Ysa2UzLuD2AV1vDm1v00y9XazoGPN9H4ma\n",
       "T0Lz4klu7hZ5NWaGefNKbCiTVAR8AAABQgGf0GpDfwAOMWuAEJnY+SB/hZRNoHVwuV4W8LjJsTe0\n",
       "o4DvBCXV4v4TJiHiXVKmkSvAe6+Sle+6lz7iMl4uK5kG2rUq/ga7h5EsGD6iy9rN1yY4Y6X3v4NT\n",
       "EH1e9W2Xnrh3krVuNzEzY0oxYSf+WhPvjuilzHm4bcQaBC6ViWV1PFy4lQlFKOMF3J0DD2sQwmAi\n",
       "CRj9rleYnjU01x/qij/QWKu8OKSpNo4DQqbvNm3DlqYYNwrggXdNo+6RZmMyV7E8Qs/iX89fOQS3\n",
       "Y9ndfpNyMUqggOb1dVrXNg0tXl/NM31GhHbhG0rLofSyxaGGLB4MwF/vsH4s1furOZviMQ60KdSp\n",
       "dqWLUyBsgeb6afajqlDoOOo2GESukWOWMV2xhg4CzQmL9kshm4fK2mwC0lKgGS7keuJh8Xs3ADTX\n",
       "um6A3oAAAAQEQZvVSahBbJlMCCH//qpVAAVK/tNTAwARKj5KdjJ7y2eUQEb/RbhDzULt3WItHQwH\n",
       "dn+ICtoAJ7A1yZyWHNxDO4tyx3qip5iTh+WAsHY6mLMfOFX6WlffInrzC31pXJAnyv4PuGCmaSBi\n",
       "LyYcBrjlpnroyeXLd9hNmdNBjFnCnRKc/3H5MzrYmW/b53HJIoEFQVjHIdujyHVdDLPqakCQupag\n",
       "aOOd0kXdExaE+gqcQjcVd8DaJgii/N6ZHuk/gi0qAfRiqpE+yq8mj2Hu6MA13G5BpapYsc5945Cy\n",
       "NOtBy0s+y41fgW669Pqp1+mdO4dXwKIZ1TOBQgL8wOLBdx1KNb+wBWwulNl+vQ3kN+/gF6vkG7Aq\n",
       "OHR0fw0BR3nQ4zx0rRDMAcYyAY6h9hF3EBgUclBmYayiESn+4uNSy3tYIDflcLL8tm4rXSCEEkGD\n",
       "LCRes9WhdGDoic0fUrJdSUeOR6h9smkFE/OH0IoJfxdAt0Jyu8CpRTjxGCMQegrgyhXDCExPLPVg\n",
       "Dq0rnsjslqlGJ0J1NSar3nD2DhPMmNWBH71ZPXtmvQcqnHchwTjIy0+P/q7mosq/LXs6lqIsL/fM\n",
       "vijwmAdAArjjVW3tL4hCSa+/IDjdIYKu6/cG5bWvP3CScmpfBdX8Opxhr5AVz5xoV3ziSJr1wuTL\n",
       "tiVsVWh1c2r2AKj7ODmAbMJpsbwTitx3VfwZW2nTkKZbx4/yiAS5mStbtPxwXfGaQ+EPBMQwzD+0\n",
       "7s3dARUV9bOUBz40B78s8ObMaUci3azJIC4cgkeBET8A5neICbBYtCBpUvgv1Bf+X/JbMIZDkJB4\n",
       "4clOPqhFdAsEhlYNy2pzB7W0w0T83fASKmBdQysBfKr6F7LLB8xhfpNl6TRp8+CTCWmPr6erWDNT\n",
       "oOVkCW5+qQ0SjeiVP81v51EmLO4FucfyCOp2YMX3PblqVe7IQk6MJvt5CywAIXcGv339L80bxZ40\n",
       "+h9fE+ZdYkSLmxhtkw3Cu1J2oCN2TPRX49attRxJ5lGwUccVGlGiqSwzMMZ2fvbSm+9UQrUJbyn/\n",
       "jIhGJXP+CnoMi6sLlADYnIcgcKLJmW6SxVTJGf6g/lZGEn3/zAHsARKZT6rqBIlozi080fvqsKT0\n",
       "gwvCzXjz0AK+0bQje/pcsci3Ez2vAChvxtwQqDqigSfhf5z9n+nHlssXC0lHIWFIDRy140CAL/uZ\n",
       "ahiTyjIIxDLEbuHfMVQ7hsobwm8JlLpzNPbecTZjKh3HkZBvJA1tX1j7aQgVqXDnGwv55SrI1KZC\n",
       "+vxaobHzN8LfdIVHS7KcZwGGdRYs3DFTdR2narO4Up8jAXHRNi3+O8gYy5k0azJYV847/eWOwPX4\n",
       "io5vb4Dw1XWcwoEAAAGlQZ/zRRUsO/8ACkyBevu4JIAPiA2MRgscHyP8fvcBsBSwnYdoqGPZQYg6\n",
       "tYsV8yOZDMwJ6WPtlFI7h4u4H1L7kCko+6fi5qMOxFnLRdE3pcfrf8wJFfFR2Hu8NLrNRwIQEdwi\n",
       "GcEqWBxgOh12RwT9vgTG0lbyD4Gg5kazs9sCoqDETagFhhfjoqPeWAuhv6F7EQLbj3i9uUOwx5fD\n",
       "WF5t+lSdG4TkPrmn1AAaDmgMi9YRMfrCi4tboTVeUo/WryjxF9sb5UOtyDmuvT0iwSh7ksNJ+Kxt\n",
       "s4Rgqmlf2NVC9cvhCOJj+EKVMSS+won3+sFpOocGawJvJ8Y9JCb+vF3HkIl0qsoq7PHI8zXilONW\n",
       "wzJHVV76NUYSFKav/czgy5b0VpiWGOcmnHYXKcVCGR13KFJe6dlrGpy1x1Z0hkwYgtpayUz9ncJl\n",
       "PTunNQ8tlQDZBHLlCDC8bvnWsMvfLiMLzAIo566eozML1CQYTXTmHutXMYsxBQjSEc3HUzJ3sb3z\n",
       "UJMydFK0ozUQBFtF/xiw3de8+2FUmP4nQbBravpeDpkBX4iPswAAAT0BnhJ0Q38ADofcgA2qQw5d\n",
       "UY7h9u/m0xn+yXZdhJupbrb1N/qGsEwkMz7SgwVSKWy9u5gkH0Q9sOiH77M95Yn9fdWMdDmJL1vw\n",
       "LmK+vz0JUqUL2K6NlYTypoO9m8EVI7L7cf6D86cWM0cClkNwwahKSa2tBpxv3MNw5P6YIjBv5Mpv\n",
       "P+t0IT442r4fMNmYSs4lElYVZHRxym1l1zGuP3N4CrlQsxEUH24oFfxF1MYLt2CTghWThCDiBXwW\n",
       "TWZre+/hQAjGugAlkyYw8jE+6QX3W+qHn8SBGCCF6sNSwcsgCA96otuNZN6aK2m3I3MYb1OaxTzC\n",
       "+vj9LkaBXnk3lmtq+hQamsCYUYJUdFxYivQETI/iJh2W0sUCleBOdd9GRui0LV+bzK3mSmoUsfJy\n",
       "WpYVZxFpWQIS1If42QgFBAAAAPcBnhRqQ38ADoFC1cgA2j2slpdkaQaXsanKg2mLvHdapUWNZcV3\n",
       "JISvj0mjXSHxuq845l7RWlA2eeNHyHOsv4SZdwW3Z94phpEHIMW8rIyeHIhgnNA+g3oss1RRBLgx\n",
       "8pCsAgaHvmUfYSqjSldi7yf9QstWkWnDQ2BO+rB6NvdGKPDxnztxLckzykCFXR+NKHoUZ18lx8x8\n",
       "+ZDXvn9kNTpns9yUmSXNGBc4w30FYBcgklgfFGNeenzdotEh5ZRNjf6Xpgtvl0zdu1TQz6CnyAHu\n",
       "tUuGlF5CXxR20ivgavsNkvSFDTqzQYtvxp5LX3I8d4rNe2A0gIuBAAACPUGaFkmoQWyZTAgj//61\n",
       "KoACplP7QAbokrLDI/gFKnGQvZzwkzY8dNFJY0z+RiH1xPazbT/jtjX2I67zznPOWDumfygy2jeh\n",
       "2Xm0LlzuJS8w47Br93LkNd7OvIu0STG/idudn/Xth2K341OQQ6KI0LEIns9gnrqhSkywsmzxXtqi\n",
       "FToxL6kkQAggFm2ywblQYSmTT536bBkTmLoKfsK//+oKz5OqZ4Vvglf7Eh6JrznFvKoTiP4Nlmdf\n",
       "hnlxTqIbh/j1AtPgKiMm+fuYlRkVBZYt/9IYStOa7wyswP+Updwv830dsGPEJYd3oj6zM8mevFdB\n",
       "lAKl9MhVzMFpf5OSVH4zTH+tsvoZss40py79pku20BuMDv0R5sHdAIsZXvBHf+q4wgxeeF7EF9Vp\n",
       "W5RJpWkBweQ2jxu1OILZnOlaVDLt8KT4K/jtt1e8FpyzB2LIp+H59q3OLEM/xO6FLwx05zxx2ixw\n",
       "/Y+J4C5KKiGGAXt4KWkFxHVgW3AEEsJdzwnQidBPFYoS4JG6OWw7bdP+pG/nGlkjl4PoIWSIc5E4\n",
       "/KbrV7yu/viHkCLgSrafJ/cL6JD9KanfSuq0H+0juQ5/KQ2uEhT2Sa6XnV/TVgig4AYB6T96rqis\n",
       "kQBXt852+SylFLTMV0R/3YFqp/qLA5+qo3f/nIAfgb+RxXkNUrLnsA1GPyDPQ5xU1KZU0zxEDJj5\n",
       "7zOGRkHD2HyW8NvRzVnQ9VN+e31QD1CNRJsX2H9eokb1BaU6NgxbcaMMAAAsoAAAAyJBmjpJ4QpS\n",
       "ZTAgj//+tSqAArmwJoWAETXncL8gM5ogSWWt+u7shUGpkKDwz3zQbxZMNRqgWtjTvl0CRlotbYek\n",
       "aaNC9FzO1zfSLXr8VEpWSVX8i+9ocbGA6d3jng9lclxi4Do0DsUcEDcxvgtW0k4cY21p0mu+beWr\n",
       "BubnP49bkPbIgaTkvA5uUUczIXe/Sm6iyzVvmacSEnnD9f21h+qDKH6YLRto/rnXSTg/nipgrwBm\n",
       "UJJ7HoIqPhosiXf1hPd0JO6lM5WFwgyugoUC5TJdNbrbgztxUj1shBPOJF9A+/6FJRm+P4F7kA7O\n",
       "lOnlxBcDUDXc+/7TJOa9PYE6Pf2+QZafFmyB20B0rIH9Gwg2srvwxyojcywi8LveIyI1VExm3OoZ\n",
       "xhSIBmsmcuoXdIsW8su2dMaKtNqnrqkO4hfDplHE3PQHWq/wT6dMJCTK+Uhe1birFj+yV7OxHj9S\n",
       "S2oRvgLbMeajpy2r/Uew5B0vO8gigHSgXIMhCXNn2I484RDtvah/Z0RYBpVP2hcFJ4TytytIRHfo\n",
       "fQmrQ6FxCvd9uJT3vE7rx0kpJzfvbQ/6qTfhuiDvqJ8rtE4Z4ezjDvDpSt1XnEDRrjt49aCBSDu6\n",
       "FCfnUtZRahr5YvJgpfP+3Es4CaMm3yw9O8bD8rNcQ7lgW+cbE+OOm1GVxU2X+HQ13bGoiQmzqhWL\n",
       "f/sorQqPLs2XGMLkx1GPEARcRykip8XgEAygtoSQgssknrnSkeamaz4JQH/A1Mw5VXSNkzFvhRE6\n",
       "vHZTmoj05VpGviBdYsmIWw76CPX5zS4078e+m/wxkAZnFVmHt2vSQo56BSUaM9aPUq4zl5HwhK+Q\n",
       "A6dG+PIjE5ZyGNXzAo+jXALJAImPLIFJce1vCaoMIaLrwQIQjoDtf+ov9u6O+4hcvUG+LBkUKGgQ\n",
       "IMM1G6cwYIZl/E1HmfJ3foNGkBomrwtrsoGFCkfW3CJ7lFhw6BBV1qMsmrm5Wndwc2lo+iVGwk1e\n",
       "PLQOTLrC8Xd0/z7sBEcqMGyWvGCQADVi0eKXyZ8dcslJbsHNQZH8dV2fB4HR+fN3rLX4ABvRAAAA\n",
       "8EGeWEU0TDv/AAqV2vB3telNABNv2U7uvSq/FlHP86L5DXXFJpVTxEsJQXnFHoxobDLnQKmU6i8o\n",
       "UEEbXQ1+dX6+lmo9Q5qhg1EfRZhU9LRx+JQAo3QOk3CKNKXwM5OpxnOgLneXb+gnQZOmZpuFHpvF\n",
       "SI8zcatkhtSYXMfWFhN2SgecFt49Jr0Sy21Mv1HUE+Y3QupcE8aVYGelPRW6XCw6XHCpMBj1slnR\n",
       "n/L5H6hLDAv6nBB1mOhg9Y1Jfaj8Qh7qFeUxl/jjT8JX40HhTXI2oFQX4NadRxXY52lVLPlgzsoh\n",
       "hyLTYKRLD+1da2ACBwAAAIIBnnd0Q38ADtnuKmlWtkABDm5yf7rNN3kw3xTZYoHSAqvnijrP5WNg\n",
       "fIfRI2Fauv329gkEaklQjCcyrzxOCfnkErENOVZlxKTpF+Gsk19Q9I7dAiPgtFzjVwxpBUUYSeEZ\n",
       "3a7nRr+slfvpsgk60fU97zjjTf9WOpobT946kuBrgA9IAAAAPQGeeWpDfwAOqzDheW5ydQINYqVY\n",
       "EAan5CWFMtNKv9I2nAlg0ufr1dkxz1vaOTAgLpozvTXZerW+QwvIAd0AAAHOQZp+SahBaJlMCCP/\n",
       "/rUqgAK6EhE24tUAAtzmN8vB2RtTnSct9Nr3I7HMiwFzER1fUXTbv7itVOAT5BP6TqYOGNd8+VMR\n",
       "8AG690CtVuVUpw91T3sDTlD3P/ebUuUiJ2cWC7nAcHNy+AYK9CrVwwt24nToSI64lETJehQIJYfx\n",
       "FAo7GpU5BEbU/7nGBD0A24fAOK7Ht6cQ7yNmu/G2KbxNmCUrUdwwcH5Hg5+bNyr+PBKFSttqUg8e\n",
       "GmQaN0HP8QICCzNuBzw/2c+Dy6On6SPINanK+7SeyJr7Lm6vx6TfWzh0huuNOoHEqJ7X5EJvg8Ku\n",
       "kIkXxR2BUgZTeLRv/dwVp7rzQ61rVzRK+DcU9tEK4jBc0JOMiaIaDQGBby99+5HotWczfwUgtJTq\n",
       "z/FXfnBw0x2r+cszbd0owrsrXP062nQiH1cYcK3MOEifgFhEv9K+CMcY0+8fpw4mZ+Qz9cfV7eup\n",
       "IjZehyw+mNfXTJU33t02uIWXkT0zBWaxzXzQuUWPSOchTAj29CGPY45RC+9cxDE2WsvAq+JwGxLH\n",
       "JZRBcIb46uPydK375OsQe7ZlFauMVL4XN3NfYB73Zn3dWb9RXoG0xsdQvn89xgAAAwP8AAAAgEGe\n",
       "nEURLDv/AAqV3E1q+ndoAP15KL06vfl+a+3YZtL4rEGyjYi9VvQSa6MvVBap8NSVAZOiGyHUMV4x\n",
       "DNWQuU1PcoAPIQUgiTolZjWxtbyKMRWqLLLFZPi2Uk2k1LlAY/w3hkpnSBbhisICt9VkeJgp+KeQ\n",
       "LxV4FGZZPAjrQA+ZAAAANAGeu3RDfwAHsVVMPZeOGQvCu7vACCJubzwEFXtqCTaOyY3F3v/xuuf6\n",
       "nNqm2/9LEz+ADukAAAAoAZ69akN/AAZwbVCsph4Yg1W/pgbZyH7bIYswONByxgR8iIBTXADKgAAA\n",
       "AVxBmqJJqEFsmUwIIf/+qlUABXGL/MAAOFXWrZh6zq1ebU+ziDIyIcP+b8SPe4Sw1FdKuqIBGY/X\n",
       "6HUIEGB+cMHXW+oWGFWCyDj/M1UHLbqttgkRkqa97h0vlHLtTzIuK62RUbJpXGqZK8n5qm58ns8e\n",
       "W6UG39iDHvVes47XHk1NZX9LZ0p0nsqtfBGHF0DqbEZVccfISd45GEqViU5dWKtKDovhXvY2aIdb\n",
       "8kEfaq3vt4Fgb1hv0QoBg/Mhin2xlzsRPJ/lPc/I472W157ttZPNLeO/0UjNzdVHVBAdH51Ik7oz\n",
       "Sh3gMieEcn1Bv+Yu6UP0VQY2C9ozl+eDyRNnKF4Tg702EGgO51RBEJ6h1D3zSHZX6q9FmoC25T2a\n",
       "wmEZkyJYGyzLvDxz3xCf6VAXCEIasdrcG0QqIzbucquc+KdZW8VJjaqi7/ZSfabF7AnrnGDiOpwI\n",
       "AxlkYtAABFwAAABGQZ7ARRUsO/8ACfPrDrg4AJCtVnWsksxI0P616PbXf/I/GP6TbikNw4w1dtiG\n",
       "oxRLcByxwABpPGxVMi8SEEoymUAOWgALuQAAACIBnv90Q38ABpdZ0ziEtAq8K7w+z4HQg67fzAXk\n",
       "RQ+ugAqoAAAAJQGe4WpDfwAOf3Bkf140B2fC61zBqcNRVmK1agEjBrR1D7CAEXEAAAC3QZrmSahB\n",
       "bJlMCHf//qmWABU2NuNtX+7wxwATMWuawvyv3es11OiO5GEvi2l5sZ9lEDKIAJoj/E+pLELGSIug\n",
       "iCT5qvgHNuNAZsB3as2Wo+DlZ6nwH7x+1DLersPkJ1TCvCEMoBpSqyfzC5psnOMSsKcOHs4kfocf\n",
       "Zs0yUHsmXTxB1UHu0Yiq5/0g/A0PPxdvb0YRn29bPg+bGlC0K9Laz6V7M/MxMpuTryKe48UN/nJ0\n",
       "HBQ8AANmAAAALkGfBEUVLDv/AAThyq0zudadLbJKAY2lvDtQTxMp0Hk+8NKg1tJjPv+6IDQAD5kA\n",
       "AAAhAZ8jdEN/AAcTUDH+ykuhbEc7Il8nkZ1RznqRo6lSAALbAAAAJQGfJWpDfwAO13PyoLGssl44\n",
       "VgDGZ6RGmm5XvukXaZPdAl3ACDkAAAAlQZsnSahBbJlMCG///qeEACW0v2idroxLvrcAENh86aze\n",
       "oABWwQAABMdtb292AAAAbG12aGQAAAAAAAAAAAAAAAAAAAPoAAAPoAABAAABAAAAAAAAAAAAAAAA\n",
       "AQAAAAAAAAAAAAAAAAAAAAEAAAAAAAAAAAAAAAAAAEAAAAAAAAAAAAAAAAAAAAAAAAAAAAAAAAAA\n",
       "AAAAAAACAAAD8XRyYWsAAABcdGtoZAAAAAMAAAAAAAAAAAAAAAEAAAAAAAAPoAAAAAAAAAAAAAAA\n",
       "AAAAAAAAAQAAAAAAAAAAAAAAAAAAAAEAAAAAAAAAAAAAAAAAAEAAAAAB9AAAAZAAAAAAACRlZHRz\n",
       "AAAAHGVsc3QAAAAAAAAAAQAAD6AAAAgAAAEAAAAAA2ltZGlhAAAAIG1kaGQAAAAAAAAAAAAAAAAA\n",
       "ACgAAACgAFXEAAAAAAAtaGRscgAAAAAAAAAAdmlkZQAAAAAAAAAAAAAAAFZpZGVvSGFuZGxlcgAA\n",
       "AAMUbWluZgAAABR2bWhkAAAAAQAAAAAAAAAAAAAAJGRpbmYAAAAcZHJlZgAAAAAAAAABAAAADHVy\n",
       "bCAAAAABAAAC1HN0YmwAAAC0c3RzZAAAAAAAAAABAAAApGF2YzEAAAAAAAAAAQAAAAAAAAAAAAAA\n",
       "AAAAAAAB9AGQAEgAAABIAAAAAAAAAAEAAAAAAAAAAAAAAAAAAAAAAAAAAAAAAAAAAAAAAAAAAAAY\n",
       "//8AAAAyYXZjQwFkABb/4QAZZ2QAFqzZQIAz5+EAAAMAAQAAAwAUDxYtlgEABmjr48siwAAAABx1\n",
       "dWlka2hA8l8kT8W6OaUbzwMj8wAAAAAAAAAYc3R0cwAAAAAAAAABAAAAKAAABAAAAAAUc3RzcwAA\n",
       "AAAAAAABAAAAAQAAAQhjdHRzAAAAAAAAAB8AAAAKAAAIAAAAAAEAABQAAAAAAQAACAAAAAABAAAA\n",
       "AAAAAAEAAAQAAAAAAQAAFAAAAAABAAAIAAAAAAEAAAAAAAAAAQAABAAAAAABAAAUAAAAAAEAAAgA\n",
       "AAAAAQAAAAAAAAABAAAEAAAAAAEAAAgAAAAAAQAAFAAAAAABAAAIAAAAAAEAAAAAAAAAAQAABAAA\n",
       "AAABAAAUAAAAAAEAAAgAAAAAAQAAAAAAAAABAAAEAAAAAAEAABQAAAAAAQAACAAAAAABAAAAAAAA\n",
       "AAEAAAQAAAAAAQAAFAAAAAABAAAIAAAAAAEAAAAAAAAAAQAABAAAAAABAAAIAAAAABxzdHNjAAAA\n",
       "AAAAAAEAAAABAAAAKAAAAAEAAAC0c3RzegAAAAAAAAAAAAAAKAAAFdoAAAHLAAACawAAAxoAAAJj\n",
       "AAABNwAAAaoAAAGcAAABkgAAAdQAAAQdAAAB1wAAARAAAAFgAAAEjQAAAhkAAAFSAAABRgAABAgA\n",
       "AAGpAAABQQAAAPsAAAJBAAADJgAAAPQAAACGAAAAQQAAAdIAAACEAAAAOAAAACwAAAFgAAAASgAA\n",
       "ACYAAAApAAAAuwAAADIAAAAlAAAAKQAAACkAAAAUc3RjbwAAAAAAAAABAAAALAAAAGJ1ZHRhAAAA\n",
       "Wm1ldGEAAAAAAAAAIWhkbHIAAAAAAAAAAG1kaXJhcHBsAAAAAAAAAAAAAAAALWlsc3QAAAAlqXRv\n",
       "bwAAAB1kYXRhAAAAAQAAAABMYXZmNTYuNDAuMTAx\n",
       "\">\n",
       "  Your browser does not support the video tag.\n",
       "</video>"
      ],
      "text/plain": [
       "<matplotlib.animation.FuncAnimation at 0x7f6b5f02e240>"
      ]
     },
     "execution_count": 14,
     "metadata": {},
     "output_type": "execute_result"
    }
   ],
   "source": [
    "fig = plt.figure(dpi=100, figsize=(5, 4))\n",
    "plt.scatter(x,y)\n",
    "line, = plt.plot(x,lin(a_guess,b_guess,x))\n",
    "plt.close()\n",
    "\n",
    "def animate(i):\n",
    "    line.set_ydata(lin(a_guess,b_guess,x))\n",
    "    for i in range(10): upd()\n",
    "    return line,\n",
    "\n",
    "ani = animation.FuncAnimation(fig, animate, np.arange(0, 40), interval=100)\n",
    "ani"
   ]
  },
  {
   "cell_type": "code",
   "execution_count": null,
   "metadata": {
    "collapsed": true
   },
   "outputs": [],
   "source": []
  }
 ],
 "metadata": {
  "kernelspec": {
   "display_name": "Python [conda root]",
   "language": "python",
   "name": "conda-root-py"
  },
  "language_info": {
   "codemirror_mode": {
    "name": "ipython",
    "version": 3
   },
   "file_extension": ".py",
   "mimetype": "text/x-python",
   "name": "python",
   "nbconvert_exporter": "python",
   "pygments_lexer": "ipython3",
   "version": "3.6.1"
  },
  "nav_menu": {},
  "toc": {
   "navigate_menu": true,
   "number_sections": true,
   "sideBar": true,
   "threshold": 6,
   "toc_cell": true,
   "toc_section_display": "block",
   "toc_window_display": false
  },
  "widgets": {
   "state": {},
   "version": "1.1.2"
  }
 },
 "nbformat": 4,
 "nbformat_minor": 1
}
